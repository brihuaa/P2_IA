{
 "cells": [
  {
   "cell_type": "code",
   "execution_count": 465,
   "id": "ab5f1cd5",
   "metadata": {},
   "outputs": [],
   "source": [
    "import numpy as np\n",
    "import pandas as pd\n",
    "from queue import Queue\n",
    "import networkx as nx\n",
    "import time\n",
    "from PIL import Image"
   ]
  },
  {
   "cell_type": "code",
   "execution_count": 466,
   "id": "fa5e5a1e-4a90-45b8-a15e-3f3d0a656121",
   "metadata": {},
   "outputs": [
    {
     "data": {
      "text/plain": [
       "(0, 0)"
      ]
     },
     "execution_count": 466,
     "metadata": {},
     "output_type": "execute_result"
    }
   ],
   "source": [
    "grid_original = np.asarray(pd.read_csv('./inicial_easy.csv').iloc[:, 1:])\n",
    "\n",
    "grid_original.shape"
   ]
  },
  {
   "cell_type": "code",
   "execution_count": null,
   "id": "f8d3079c-21e7-4927-a5a8-b41fc8ff0f72",
   "metadata": {},
   "outputs": [
    {
     "name": "stdout",
     "output_type": "stream",
     "text": [
      "Estado inicial: (2, 2, 0, 0, 'izq')\n"
     ]
    }
   ],
   "source": [
    "with open('./inicial_easy.csv', 'r') as file:\n",
    "    content = file.read().strip()\n",
    "\n",
    "# Interpretar el contenido del archivo\n",
    "left_side, right_side, boat_position = content.split(';')\n",
    "\n",
    "# Contar el número de ovejas y lobos en el lado izquierdo\n",
    "ovejas_izq = left_side.count('O')\n",
    "lobos_izq = left_side.count('L')\n",
    "\n",
    "# Contar el número de ovejas y lobos en el lado derecho\n",
    "ovejas_der = right_side.count('O')\n",
    "lobos_der = right_side.count('L')\n",
    "\n",
    "# Determinar la posición de la barca\n",
    "barca_pos = 'izq' if boat_position.strip() == 'I' else 'der'\n",
    "\n",
    "initial_state = (ovejas_izq, lobos_izq, ovejas_der, lobos_der, barca_pos)\n",
    "print(\"Estado inicial:\", initial_state)"
   ]
  },
  {
   "cell_type": "code",
   "execution_count": null,
   "id": "bcee7925",
   "metadata": {},
   "outputs": [],
   "source": [
    "initial_state = (ovejas_izq, lobos_izq, ovejas_der, lobos_der, barca_pos)\n",
    "objective_state = (0, 0, ovejas_izq, lobos_izq, 'der')"
   ]
  },
  {
   "cell_type": "code",
   "execution_count": 470,
   "id": "044a6817",
   "metadata": {},
   "outputs": [],
   "source": [
    "operations = [\n",
    "    (1, 0),  # Mover 1 oveja\n",
    "    (0, 1),  # Mover 1 lobo\n",
    "    (1, 1),  # Mover 1 oveja y 1 lobo\n",
    "    (2, 0),  # Mover 2 ovejas\n",
    "    (0, 2)   # Mover 2 lobos\n",
    "]"
   ]
  },
  {
   "cell_type": "code",
   "execution_count": 471,
   "id": "4b4d9c5b",
   "metadata": {},
   "outputs": [],
   "source": [
    "class Node:\n",
    "    def __init__(self, value, parent=None):\n",
    "        self.value = value\n",
    "        self.children = []\n",
    "        self.parent = parent\n",
    "\n",
    "    def add_child(self, child):\n",
    "        node = Node(child, parent=self)\n",
    "        self.children.append(node)\n",
    "        return node\n",
    "\n",
    "class Tree:\n",
    "    def __init__(self, root):\n",
    "        self.root = root\n",
    "         \n",
    "def find_path_to_root(objective_node):\n",
    "    path = []\n",
    "    current_node = objective_node\n",
    "    while current_node is not None:\n",
    "        path.insert(0, current_node.value)\n",
    "        current_node = current_node.parent\n",
    "    return path"
   ]
  },
  {
   "cell_type": "code",
   "execution_count": 472,
   "id": "9019c792",
   "metadata": {},
   "outputs": [],
   "source": [
    "def is_valid_state(ovejas_izq, lobos_izq, ovejas_der, lobos_der):\n",
    "    if (ovejas_izq < 0 or lobos_izq < 0 or ovejas_der < 0 or lobos_der < 0):\n",
    "        return False\n",
    "    if (ovejas_izq > 0 and lobos_izq > ovejas_izq):\n",
    "        return False\n",
    "    if (ovejas_der > 0 and lobos_der > ovejas_der):\n",
    "        return False\n",
    "    return True"
   ]
  },
  {
   "cell_type": "code",
   "execution_count": null,
   "id": "ee2580a3",
   "metadata": {},
   "outputs": [],
   "source": [
    "def generate_children(current_state, operations):\n",
    "    ovejas_izq, lobos_izq, ovejas_der, lobos_der, barca_pos = current_state\n",
    "    children = []\n",
    "    \n",
    "    for op in operations:\n",
    "        if barca_pos == 'izq':\n",
    "            # Mover animales del lado izquierdo al derecho\n",
    "            new_ovejas_izq = ovejas_izq - op[0]\n",
    "            new_lobos_izq = lobos_izq - op[1]\n",
    "            new_ovejas_der = ovejas_der + op[0]\n",
    "            new_lobos_der = lobos_der + op[1]\n",
    "            new_barca_pos = 'der'\n",
    "        else:\n",
    "            # Mover animales del lado derecho al izquierdo\n",
    "            new_ovejas_izq = ovejas_izq + op[0]\n",
    "            new_lobos_izq = lobos_izq + op[1]\n",
    "            new_ovejas_der = ovejas_der - op[0]\n",
    "            new_lobos_der = lobos_der - op[1]\n",
    "            new_barca_pos = 'izq'\n",
    "        \n",
    "        new_state = (new_ovejas_izq, new_lobos_izq, new_ovejas_der, new_lobos_der, new_barca_pos)\n",
    "        \n",
    "        # Verificar si el nuevo estado es válido\n",
    "        if is_valid_state(new_ovejas_izq, new_lobos_izq, new_ovejas_der, new_lobos_der): \n",
    "            children.append(new_state)\n",
    "    \n",
    "    return children\n"
   ]
  },
  {
   "cell_type": "code",
   "execution_count": null,
   "id": "0b02fc67",
   "metadata": {},
   "outputs": [],
   "source": [
    "def construct_solution_BFS(root, objective_state):\n",
    "    tree = Tree(root)\n",
    "    nodes_to_expand = Queue()\n",
    "    nodes_to_expand.put(root)\n",
    "    visited_nodes = set()\n",
    "    visited_nodes.add(root.value)\n",
    "\n",
    "    found = False\n",
    "    path = []\n",
    "\n",
    "    while not nodes_to_expand.empty():\n",
    "        current_node = nodes_to_expand.get()\n",
    "        current_state = current_node.value\n",
    "\n",
    "        if current_state == objective_state:\n",
    "            found = True\n",
    "            path = find_path_to_root(current_node)\n",
    "            break\n",
    "\n",
    "        children = generate_children(current_state, operations)\n",
    "        for child_state in children:\n",
    "            if child_state not in visited_nodes:\n",
    "                child_node = current_node.add_child(child_state)\n",
    "                nodes_to_expand.put(child_node)\n",
    "                visited_nodes.add(child_state)\n",
    "\n",
    "    return tree, path, visited_nodes\n"
   ]
  },
  {
   "cell_type": "code",
   "execution_count": 478,
   "id": "57faae21",
   "metadata": {},
   "outputs": [
    {
     "name": "stdout",
     "output_type": "stream",
     "text": [
      "Solución: [(2, 2, 0, 0, 'izq'), (1, 1, 1, 1, 'der'), (2, 1, 0, 1, 'izq'), (0, 1, 2, 1, 'der'), (1, 1, 1, 1, 'izq'), (0, 0, 2, 2, 'der')]\n",
      "Tiempo de ejecución: 0.0010178089141845703 segundos\n"
     ]
    }
   ],
   "source": [
    "start_time = time.time()\n",
    "root = Tree(Node(initial_state))  \n",
    "tree, solution_path, visited_nodes = construct_solution_BFS(root.root, objective_state)  \n",
    "end_time = time.time()\n",
    "\n",
    "# Mostrar la solución y el tiempo de ejecución\n",
    "print(\"Solución:\", solution_path)\n",
    "print(\"Tiempo de ejecución:\", end_time - start_time, \"segundos\")"
   ]
  },
  {
   "cell_type": "code",
   "execution_count": null,
   "id": "597a33cf",
   "metadata": {},
   "outputs": [
    {
     "name": "stdout",
     "output_type": "stream",
     "text": [
      "Solución A*: [(2, 2, 0, 0, 'izq'), (2, 0, 0, 2, 'der'), (2, 1, 0, 1, 'izq'), (0, 1, 2, 1, 'der'), (1, 1, 1, 1, 'izq'), (0, 0, 2, 2, 'der')]\n",
      "Tiempo de ejecución: 0.0009984970092773438 segundos\n"
     ]
    }
   ],
   "source": [
    "import heapq\n",
    "import time\n",
    "\n",
    "\n",
    "def heuristic(state):\n",
    "    ovejas_izq, lobos_izq, ovejas_der, lobos_der, _ = state\n",
    "    return ovejas_izq + lobos_izq\n",
    "\n",
    "def define_operations():\n",
    "    return [\n",
    "        (1, 0),\n",
    "        (0, 1),\n",
    "        (2, 0),\n",
    "        (0, 2),\n",
    "        (1, 1),\n",
    "    ]\n",
    "\n",
    "def generate_children(state, operations):\n",
    "    ovejas_izq, lobos_izq, ovejas_der, lobos_der, barca_pos = state\n",
    "    children = []\n",
    "    \n",
    "    for op in operations:\n",
    "        ovejas_move, lobos_move = op\n",
    "        \n",
    "        if barca_pos == 'izq':\n",
    "            new_ovejas_izq = ovejas_izq - ovejas_move\n",
    "            new_lobos_izq = lobos_izq - lobos_move\n",
    "            new_ovejas_der = ovejas_der + ovejas_move\n",
    "            new_lobos_der = lobos_der + lobos_move\n",
    "            new_barca_pos = 'der'\n",
    "        else:\n",
    "            new_ovejas_izq = ovejas_izq + ovejas_move\n",
    "            new_lobos_izq = lobos_izq + lobos_move\n",
    "            new_ovejas_der = ovejas_der - ovejas_move\n",
    "            new_lobos_der = lobos_der - lobos_move\n",
    "            new_barca_pos = 'izq'\n",
    "        \n",
    "        new_state = (new_ovejas_izq, new_lobos_izq, new_ovejas_der, new_lobos_der, new_barca_pos)\n",
    "        \n",
    "        if is_valid_state(*new_state):\n",
    "            children.append(new_state)\n",
    "\n",
    "    return children\n",
    "\n",
    "def is_valid_state(ovejas_izq, lobos_izq, ovejas_der, lobos_der, _):\n",
    "    if (ovejas_izq > 0 and ovejas_izq < lobos_izq) or (ovejas_der > 0 and ovejas_der < lobos_der):\n",
    "        return False\n",
    "    if ovejas_izq < 0 or lobos_izq < 0 or ovejas_der < 0 or lobos_der < 0:\n",
    "        return False\n",
    "    return True\n",
    "\n",
    "def find_path_to_root(node):\n",
    "    path = []\n",
    "    while node:\n",
    "        path.append(node.value)\n",
    "        node = node.parent\n",
    "    return path[::-1]\n",
    "\n",
    "class Node:\n",
    "    def __init__(self, value, parent=None):\n",
    "        self.value = value\n",
    "        self.parent = parent\n",
    "        self.g = 0\n",
    "        self.h = 0\n",
    "        self.f = 0\n",
    "    \n",
    "    def add_child(self, child_state):\n",
    "        child_node = Node(child_state, parent=self)\n",
    "        return child_node\n",
    "    \n",
    "    def __lt__(self, other):\n",
    "        return self.f < other.f\n",
    "\n",
    "# A* para encontrar la solución\n",
    "def construct_solution_Astar(initial_state, objective_state):\n",
    "    root = Node(initial_state)  \n",
    "    tree = Tree(root)  \n",
    "    open_list = []  \n",
    "    heapq.heappush(open_list, root)  \n",
    "    visited_nodes = set()  \n",
    "    visited_nodes.add(initial_state)\n",
    "\n",
    "    operations = define_operations()  \n",
    "    found = False  \n",
    "    path = []  \n",
    "\n",
    "    # Búsqueda A*\n",
    "    while open_list:\n",
    "        current_node = heapq.heappop(open_list)  # Obtener el nodo con el menor coste f(n)\n",
    "        current_state = current_node.value\n",
    "\n",
    "        if current_state == objective_state:  \n",
    "            found = True\n",
    "            path = find_path_to_root(current_node) \n",
    "            break\n",
    "\n",
    "        children = generate_children(current_state, operations) \n",
    "        for child_state in children:\n",
    "            if child_state not in visited_nodes:\n",
    "                child_node = current_node.add_child(child_state)  \n",
    "                child_node.g = current_node.g + 1  # El coste acumulado (g(n)) es el coste del padre + 1\n",
    "                child_node.h = heuristic(child_state) \n",
    "                child_node.f = child_node.g + child_node.h  # Calcular el coste total f(n) = g(n) + h(n)\n",
    "                heapq.heappush(open_list, child_node)\n",
    "                visited_nodes.add(child_state)\n",
    "\n",
    "    return tree, path, visited_nodes  \n",
    "\n",
    "start_time = time.time()\n",
    "\n",
    "# Ejecutar el algoritmo A*\n",
    "tree, solution_path, visited_nodes = construct_solution_Astar(initial_state, objective_state)\n",
    "\n",
    "# Mostrar la solución\n",
    "print(\"Solución A*:\", solution_path)\n",
    "end_time = time.time()\n",
    "\n",
    "print(\"Tiempo de ejecución:\", end_time - start_time, \"segundos\")"
   ]
  }
 ],
 "metadata": {
  "kernelspec": {
   "display_name": "Python 3",
   "language": "python",
   "name": "python3"
  },
  "language_info": {
   "codemirror_mode": {
    "name": "ipython",
    "version": 3
   },
   "file_extension": ".py",
   "mimetype": "text/x-python",
   "name": "python",
   "nbconvert_exporter": "python",
   "pygments_lexer": "ipython3",
   "version": "3.11.8"
  }
 },
 "nbformat": 4,
 "nbformat_minor": 5
}
